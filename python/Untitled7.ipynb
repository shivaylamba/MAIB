{
  "nbformat": 4,
  "nbformat_minor": 0,
  "metadata": {
    "colab": {
      "name": "Untitled7.ipynb",
      "provenance": []
    },
    "kernelspec": {
      "name": "python3",
      "display_name": "Python 3"
    },
    "language_info": {
      "name": "python"
    }
  },
  "cells": [
    {
      "cell_type": "code",
      "metadata": {
        "colab": {
          "base_uri": "https://localhost:8080/"
        },
        "id": "KbD195GeR0ws",
        "outputId": "9ea87787-ea50-4bd5-93b2-306294803f82"
      },
      "source": [
        "# Online Python compiler (interpreter) to run Python online.\n",
        "# Write Python 3 code in this online editor and run it.\n",
        "\"\"\"\n",
        "this is a sample code\n",
        "this is a comment\n",
        "this is line 3 \n",
        "\"\"\"\n",
        "print(\"hello\")"
      ],
      "execution_count": null,
      "outputs": [
        {
          "output_type": "stream",
          "text": [
            "hello\n"
          ],
          "name": "stdout"
        }
      ]
    },
    {
      "cell_type": "code",
      "metadata": {
        "id": "CTjk7nG7SIHg"
      },
      "source": [
        ""
      ],
      "execution_count": null,
      "outputs": []
    },
    {
      "cell_type": "markdown",
      "metadata": {
        "id": "DhDDdUjcSJnN"
      },
      "source": [
        ""
      ]
    },
    {
      "cell_type": "code",
      "metadata": {
        "colab": {
          "base_uri": "https://localhost:8080/"
        },
        "id": "opDdn2QOR9EH",
        "outputId": "8ad9f285-992c-49fd-f208-ff5495287e9b"
      },
      "source": [
        "4*5+3"
      ],
      "execution_count": null,
      "outputs": [
        {
          "output_type": "execute_result",
          "data": {
            "text/plain": [
              "23"
            ]
          },
          "metadata": {
            "tags": []
          },
          "execution_count": 14
        }
      ]
    },
    {
      "cell_type": "code",
      "metadata": {
        "colab": {
          "base_uri": "https://localhost:8080/"
        },
        "id": "ueV_jvwdR9IL",
        "outputId": "af02fba5-7780-457c-8194-003cc82a5633"
      },
      "source": [
        "4/3"
      ],
      "execution_count": null,
      "outputs": [
        {
          "output_type": "execute_result",
          "data": {
            "text/plain": [
              "1.3333333333333333"
            ]
          },
          "metadata": {
            "tags": []
          },
          "execution_count": 15
        }
      ]
    },
    {
      "cell_type": "code",
      "metadata": {
        "colab": {
          "base_uri": "https://localhost:8080/"
        },
        "id": "CRp02wVZR9K7",
        "outputId": "e7332ec9-8027-4242-f288-682b9af20a59"
      },
      "source": [
        "# floor division //\n",
        "10//3"
      ],
      "execution_count": null,
      "outputs": [
        {
          "output_type": "execute_result",
          "data": {
            "text/plain": [
              "3"
            ]
          },
          "metadata": {
            "tags": []
          },
          "execution_count": 17
        }
      ]
    },
    {
      "cell_type": "code",
      "metadata": {
        "colab": {
          "base_uri": "https://localhost:8080/"
        },
        "id": "0mUQ7WJyR9OR",
        "outputId": "a9be09d9-2735-4199-f388-89a4fb287167"
      },
      "source": [
        "12%5\n",
        "# remainder "
      ],
      "execution_count": null,
      "outputs": [
        {
          "output_type": "execute_result",
          "data": {
            "text/plain": [
              "2"
            ]
          },
          "metadata": {
            "tags": []
          },
          "execution_count": 18
        }
      ]
    },
    {
      "cell_type": "code",
      "metadata": {
        "colab": {
          "base_uri": "https://localhost:8080/"
        },
        "id": "1uQwiRvIWdsm",
        "outputId": "9deca099-6759-41da-d4ed-27be9839c090"
      },
      "source": [
        "# exponential : base number ** exponent \n",
        "\n",
        "4 ** 5 "
      ],
      "execution_count": null,
      "outputs": [
        {
          "output_type": "execute_result",
          "data": {
            "text/plain": [
              "1024"
            ]
          },
          "metadata": {
            "tags": []
          },
          "execution_count": 19
        }
      ]
    },
    {
      "cell_type": "code",
      "metadata": {
        "colab": {
          "base_uri": "https://localhost:8080/"
        },
        "id": "pKcZl74QWdwT",
        "outputId": "0b51b898-5d14-4f66-dda6-1c82543ee780"
      },
      "source": [
        "-4**5 # -(4^5) "
      ],
      "execution_count": null,
      "outputs": [
        {
          "output_type": "execute_result",
          "data": {
            "text/plain": [
              "-1024"
            ]
          },
          "metadata": {
            "tags": []
          },
          "execution_count": 20
        }
      ]
    },
    {
      "cell_type": "code",
      "metadata": {
        "colab": {
          "base_uri": "https://localhost:8080/"
        },
        "id": "AQRjK9aAWdzB",
        "outputId": "0cc79ca4-6e63-42c7-85a7-16973d39571a"
      },
      "source": [
        "(-4)**5"
      ],
      "execution_count": null,
      "outputs": [
        {
          "output_type": "execute_result",
          "data": {
            "text/plain": [
              "-1024"
            ]
          },
          "metadata": {
            "tags": []
          },
          "execution_count": 21
        }
      ]
    },
    {
      "cell_type": "code",
      "metadata": {
        "colab": {
          "base_uri": "https://localhost:8080/"
        },
        "id": "KTsUCIoKXVCU",
        "outputId": "6a863400-c0d1-4fa7-d533-8c0aa4d34d0f"
      },
      "source": [
        "# variables : \n",
        "length = 10\n",
        "width = 4 \n",
        "area = length*width\n",
        "print(area)"
      ],
      "execution_count": null,
      "outputs": [
        {
          "output_type": "stream",
          "text": [
            "40\n"
          ],
          "name": "stdout"
        }
      ]
    },
    {
      "cell_type": "code",
      "metadata": {
        "id": "U3c6Lpa1XVJo"
      },
      "source": [
        "a = 4\n",
        "a = a + 1 \n",
        "a += 1"
      ],
      "execution_count": null,
      "outputs": []
    },
    {
      "cell_type": "code",
      "metadata": {
        "id": "KoYkVraoXVM-"
      },
      "source": [
        "a,b,c = 1,2,3"
      ],
      "execution_count": null,
      "outputs": []
    },
    {
      "cell_type": "code",
      "metadata": {
        "colab": {
          "base_uri": "https://localhost:8080/"
        },
        "id": "EeAY-MFUXVP2",
        "outputId": "675dee1f-26f5-4d89-ac8a-cd41dadcafcd"
      },
      "source": [
        "a1 = \"hello\"\n",
        "a2 = \"world\" # string concatnation \n",
        "a3 = a1+a2\n",
        "print(a3)"
      ],
      "execution_count": null,
      "outputs": [
        {
          "output_type": "stream",
          "text": [
            "helloworld\n"
          ],
          "name": "stdout"
        }
      ]
    },
    {
      "cell_type": "code",
      "metadata": {
        "colab": {
          "base_uri": "https://localhost:8080/"
        },
        "id": "JZ_QWuINauek",
        "outputId": "f70ebf19-d08f-43fd-9f47-a03c6718dba2"
      },
      "source": [
        "a,b,c,d = 2,5,4,1\n",
        "a < b > c < d"
      ],
      "execution_count": null,
      "outputs": [
        {
          "output_type": "execute_result",
          "data": {
            "text/plain": [
              "False"
            ]
          },
          "metadata": {
            "tags": []
          },
          "execution_count": 25
        }
      ]
    },
    {
      "cell_type": "code",
      "metadata": {
        "colab": {
          "base_uri": "https://localhost:8080/"
        },
        "id": "cF4ma09baujj",
        "outputId": "b81e5101-5412-43c8-8710-8e8947caa213"
      },
      "source": [
        "max(4,5,1)"
      ],
      "execution_count": null,
      "outputs": [
        {
          "output_type": "execute_result",
          "data": {
            "text/plain": [
              "5"
            ]
          },
          "metadata": {
            "tags": []
          },
          "execution_count": 26
        }
      ]
    },
    {
      "cell_type": "code",
      "metadata": {
        "colab": {
          "base_uri": "https://localhost:8080/"
        },
        "id": "Z-XQl1Qlaup1",
        "outputId": "5a23d7f0-8be3-439f-d069-54abd0829c8e"
      },
      "source": [
        "min(1,9,10,11)"
      ],
      "execution_count": null,
      "outputs": [
        {
          "output_type": "execute_result",
          "data": {
            "text/plain": [
              "1"
            ]
          },
          "metadata": {
            "tags": []
          },
          "execution_count": 27
        }
      ]
    },
    {
      "cell_type": "code",
      "metadata": {
        "colab": {
          "base_uri": "https://localhost:8080/"
        },
        "id": "Tv2mBSQrauxs",
        "outputId": "e3a04547-40e0-4a4f-fc14-726229b49435"
      },
      "source": [
        "1 < 2 and 3< 5 "
      ],
      "execution_count": null,
      "outputs": [
        {
          "output_type": "execute_result",
          "data": {
            "text/plain": [
              "True"
            ]
          },
          "metadata": {
            "tags": []
          },
          "execution_count": 28
        }
      ]
    },
    {
      "cell_type": "code",
      "metadata": {
        "colab": {
          "base_uri": "https://localhost:8080/"
        },
        "id": "fH4fWdSFbpQV",
        "outputId": "89938de7-8c50-482a-ba1c-c5e5e61e4bf5"
      },
      "source": [
        "1 > 3 or 5 > 2 "
      ],
      "execution_count": null,
      "outputs": [
        {
          "output_type": "execute_result",
          "data": {
            "text/plain": [
              "True"
            ]
          },
          "metadata": {
            "tags": []
          },
          "execution_count": 31
        }
      ]
    },
    {
      "cell_type": "code",
      "metadata": {
        "colab": {
          "base_uri": "https://localhost:8080/"
        },
        "id": "3MjA26QubpUq",
        "outputId": "067b65fc-c58a-4ec0-86ab-d41c4f15480c"
      },
      "source": [
        "(4*3) != 1. # not equal to "
      ],
      "execution_count": null,
      "outputs": [
        {
          "output_type": "execute_result",
          "data": {
            "text/plain": [
              "True"
            ]
          },
          "metadata": {
            "tags": []
          },
          "execution_count": 33
        }
      ]
    },
    {
      "cell_type": "code",
      "metadata": {
        "id": "lqAw6qtGbpYc",
        "colab": {
          "base_uri": "https://localhost:8080/"
        },
        "outputId": "6599c560-d163-4d97-bb54-c9e47e0bcd95"
      },
      "source": [
        "# datatypes \n",
        "a = 5 # integer \n",
        "a1 = 4.5 # floating number number \n",
        "string1 = \"hello world\"\n",
        "print(string1[6])\n"
      ],
      "execution_count": null,
      "outputs": [
        {
          "output_type": "stream",
          "text": [
            "w\n"
          ],
          "name": "stdout"
        }
      ]
    },
    {
      "cell_type": "code",
      "metadata": {
        "id": "x2ot_hFTbpbV",
        "colab": {
          "base_uri": "https://localhost:8080/"
        },
        "outputId": "f4a8fe98-431b-4c1d-b6c0-17a0343d073f"
      },
      "source": [
        "str1 = \"hello\"\n",
        "str2 = \"world\"\n",
        "str3 = str1 + str2 \n",
        "print(str3)"
      ],
      "execution_count": null,
      "outputs": [
        {
          "output_type": "stream",
          "text": [
            "helloworld\n"
          ],
          "name": "stdout"
        }
      ]
    },
    {
      "cell_type": "code",
      "metadata": {
        "id": "JIf9Fef9MCpS"
      },
      "source": [
        "# [start ( start index ) : end ]"
      ],
      "execution_count": null,
      "outputs": []
    },
    {
      "cell_type": "code",
      "metadata": {
        "colab": {
          "base_uri": "https://localhost:8080/"
        },
        "id": "50j43Q3XMCxd",
        "outputId": "e9696bd4-761b-4c3f-c1b8-c3cfc5178ebe"
      },
      "source": [
        "str1 = \"hello MAIB\"\n",
        "str2 = str1[1:7]\n",
        "print(str2)"
      ],
      "execution_count": null,
      "outputs": [
        {
          "output_type": "stream",
          "text": [
            "ello M\n"
          ],
          "name": "stdout"
        }
      ]
    },
    {
      "cell_type": "code",
      "metadata": {
        "colab": {
          "base_uri": "https://localhost:8080/"
        },
        "id": "fNIDqDPoMC0U",
        "outputId": "680230d3-e0d9-4a4f-f1e2-025803a7ab9e"
      },
      "source": [
        "name = \"pulkit\"\n",
        "name1 = input(\"enter name\")\n",
        "print(type(name1))\n",
        "print(name)\n",
        "print(name1)"
      ],
      "execution_count": null,
      "outputs": [
        {
          "output_type": "stream",
          "text": [
            "enter namepulkit midha\n",
            "<class 'str'>\n",
            "pulkit\n",
            "pulkit midha\n"
          ],
          "name": "stdout"
        }
      ]
    },
    {
      "cell_type": "code",
      "metadata": {
        "colab": {
          "base_uri": "https://localhost:8080/"
        },
        "id": "OE0WDR7KOAWT",
        "outputId": "85200ae8-837a-4b3f-a5c9-925b13b85990"
      },
      "source": [
        "num1 = 4 \n",
        "num2 = int(input(\"entier value of num2\")). ====  int(\"10\") === 10 integer \n",
        "print(num1 + num2)"
      ],
      "execution_count": null,
      "outputs": [
        {
          "output_type": "stream",
          "text": [
            "entier value of num210\n",
            "14\n"
          ],
          "name": "stdout"
        }
      ]
    },
    {
      "cell_type": "code",
      "metadata": {
        "colab": {
          "base_uri": "https://localhost:8080/"
        },
        "id": "mCF77kh9OyFt",
        "outputId": "6c9f0e36-dd77-452a-82b1-56d9aef74f84"
      },
      "source": [
        "# control flow in Python \n",
        "str1 = input(\"enter name of person\")\n",
        "\n",
        "if(str1 == \"Pulkit Midha\"):\n",
        "  print(\"you guessed the name it right\")\n",
        "else:\n",
        "  print(\"name is not pulkit midha\")\n",
        "\n"
      ],
      "execution_count": null,
      "outputs": [
        {
          "output_type": "stream",
          "text": [
            "enter name of personPulkit\n",
            "name is not pulkit midha\n"
          ],
          "name": "stdout"
        }
      ]
    },
    {
      "cell_type": "code",
      "metadata": {
        "colab": {
          "base_uri": "https://localhost:8080/"
        },
        "id": "MLuRUHaxOyLK",
        "outputId": "0246a15e-69c5-4c9b-8037-d8c240a3bbd8"
      },
      "source": [
        "# nested if else \n",
        "num = int(input(\"enter a number\"))\n",
        "\n",
        "if(num<10):\n",
        "  print(\"number is <10\")\n",
        "elif(num < 20 and num > 10):\n",
        "  print(\"number is between 10 and 20\")\n",
        "elif(num < 30 and num > 20):\n",
        "  print(\"number is between 20 and 30\")\n",
        "else:\n",
        "  print(\"number is greater than 30\")"
      ],
      "execution_count": null,
      "outputs": [
        {
          "output_type": "stream",
          "text": [
            "enter a number100\n",
            "number is greater than 30\n"
          ],
          "name": "stdout"
        }
      ]
    },
    {
      "cell_type": "code",
      "metadata": {
        "id": "KakxTF44OyOo"
      },
      "source": [
        "# printing 100 numbers \n",
        "print(\"1\")\n",
        "print(\"2\")\n",
        "\n",
        "\n",
        "\n",
        "\n",
        "print(\"100\")"
      ],
      "execution_count": null,
      "outputs": []
    },
    {
      "cell_type": "code",
      "metadata": {
        "colab": {
          "base_uri": "https://localhost:8080/"
        },
        "id": "VHIjqQ25R74U",
        "outputId": "db647a5c-6b22-49e0-be29-e3ca8442da01"
      },
      "source": [
        "for i in range(2,101,10):\n",
        "  print(i)"
      ],
      "execution_count": null,
      "outputs": [
        {
          "output_type": "stream",
          "text": [
            "2\n",
            "12\n",
            "22\n",
            "32\n",
            "42\n",
            "52\n",
            "62\n",
            "72\n",
            "82\n",
            "92\n"
          ],
          "name": "stdout"
        }
      ]
    },
    {
      "cell_type": "code",
      "metadata": {
        "id": "bTl-QMSYR79z"
      },
      "source": [
        "# function definition \n",
        "def functionname(parameters):\n",
        "  ---\n",
        "  ----\n",
        "\n",
        "\n",
        "\n",
        "\n",
        "# function calling \n",
        "functioname()"
      ],
      "execution_count": null,
      "outputs": []
    },
    {
      "cell_type": "code",
      "metadata": {
        "colab": {
          "base_uri": "https://localhost:8080/"
        },
        "id": "67wTOAYVVcgI",
        "outputId": "c0dca004-e121-4348-8898-1790e4a92fc2"
      },
      "source": [
        "def add(num1, num2):\n",
        "  sum = num1 + num2\n",
        "  print(sum)\n",
        "\n",
        "a = 5 \n",
        "b = 4 \n",
        "add(a,b)"
      ],
      "execution_count": null,
      "outputs": [
        {
          "output_type": "stream",
          "text": [
            "9\n"
          ],
          "name": "stdout"
        }
      ]
    },
    {
      "cell_type": "code",
      "metadata": {
        "colab": {
          "base_uri": "https://localhost:8080/"
        },
        "id": "smPiiC3qVcj0",
        "outputId": "0b138b01-84d1-41a0-8422-1eb664bce537"
      },
      "source": [
        "def add(num1, num2):\n",
        "  sum = num1 + num2 + 10\n",
        "  return(sum)\n",
        "\n",
        "a = 5 \n",
        "b = 4 \n",
        "print(add(a,b))\n"
      ],
      "execution_count": null,
      "outputs": [
        {
          "output_type": "stream",
          "text": [
            "19\n"
          ],
          "name": "stdout"
        }
      ]
    },
    {
      "cell_type": "code",
      "metadata": {
        "id": "QLayHF6JVcnF",
        "colab": {
          "base_uri": "https://localhost:8080/"
        },
        "outputId": "65d47996-e27c-4e2e-91af-5bb27584dc80"
      },
      "source": [
        "# strings , integers , floating point \n",
        "\n",
        "# list \n",
        "list1 = [1,2,3,4]\n",
        "list2 = list1 + [5,6,7,8]\n",
        "print(list2)"
      ],
      "execution_count": null,
      "outputs": [
        {
          "output_type": "stream",
          "text": [
            "[1, 2, 3, 4, 5, 6, 7, 8]\n"
          ],
          "name": "stdout"
        }
      ]
    },
    {
      "cell_type": "code",
      "metadata": {
        "id": "BR-EF536Vcp0",
        "colab": {
          "base_uri": "https://localhost:8080/"
        },
        "outputId": "38670c22-3c72-427c-c233-3ef7c8bad944"
      },
      "source": [
        "list1 = [1,2,3]\n",
        "list1[2] = \"hello\"\n",
        "print(list1)"
      ],
      "execution_count": null,
      "outputs": [
        {
          "output_type": "stream",
          "text": [
            "[1, 2, 'hello']\n"
          ],
          "name": "stdout"
        }
      ]
    },
    {
      "cell_type": "code",
      "metadata": {
        "id": "SkpAdyk5Vcu6",
        "colab": {
          "base_uri": "https://localhost:8080/"
        },
        "outputId": "af39c71d-a834-46e4-fc49-af06ca2d4e79"
      },
      "source": [
        "# list methods \n",
        "# append \n",
        "numlist = [1,2,3,10]\n",
        "# numlist.append(11)\n",
        "numlist.extend([11,22,111])\n",
        "print(numlist)\n",
        "numlist.append(1000)\n",
        "print(numlist)"
      ],
      "execution_count": null,
      "outputs": [
        {
          "output_type": "stream",
          "text": [
            "[1, 2, 3, 10, 11, 22, 111]\n",
            "[1, 2, 3, 10, 11, 22, 111, 1000]\n"
          ],
          "name": "stdout"
        }
      ]
    },
    {
      "cell_type": "code",
      "metadata": {
        "id": "TDvRgvUPVcxI",
        "colab": {
          "base_uri": "https://localhost:8080/"
        },
        "outputId": "f5f45606-c559-429c-c45a-a0815b57bff9"
      },
      "source": [
        "numlist.append(1)\n",
        "print(numlist)\n",
        "numlist.remove(1)\n",
        "print(numlist)"
      ],
      "execution_count": null,
      "outputs": [
        {
          "output_type": "stream",
          "text": [
            "[1, 2, 3, 10, 11, 22, 111, 1000, 1, 1]\n",
            "[2, 3, 10, 11, 22, 111, 1000, 1, 1]\n"
          ],
          "name": "stdout"
        }
      ]
    },
    {
      "cell_type": "code",
      "metadata": {
        "colab": {
          "base_uri": "https://localhost:8080/"
        },
        "id": "NUGPEcR-D6Et",
        "outputId": "8c3f7654-ffdc-4f8e-8f2b-a572752401d4"
      },
      "source": [
        "numlist.pop()\n",
        "print(numlist)"
      ],
      "execution_count": null,
      "outputs": [
        {
          "output_type": "stream",
          "text": [
            "[2, 3, 10, 11, 22, 111, 1000, 1]\n"
          ],
          "name": "stdout"
        }
      ]
    },
    {
      "cell_type": "code",
      "metadata": {
        "colab": {
          "base_uri": "https://localhost:8080/"
        },
        "id": "I0e7wUAXD6Kw",
        "outputId": "2084f3c0-ef74-4d92-baaa-0527d1ea0874"
      },
      "source": [
        "numlist.reverse()\n",
        "print(numlist)"
      ],
      "execution_count": null,
      "outputs": [
        {
          "output_type": "stream",
          "text": [
            "[1, 1000, 111, 22, 11, 10, 3, 2]\n"
          ],
          "name": "stdout"
        }
      ]
    },
    {
      "cell_type": "code",
      "metadata": {
        "colab": {
          "base_uri": "https://localhost:8080/"
        },
        "id": "OXk54wR0D6N4",
        "outputId": "de7a1861-ab62-4020-87bc-121deaef834d"
      },
      "source": [
        "numlist.sort()\n",
        "print(numlist)"
      ],
      "execution_count": null,
      "outputs": [
        {
          "output_type": "stream",
          "text": [
            "[1, 2, 3, 10, 11, 22, 111, 1000]\n"
          ],
          "name": "stdout"
        }
      ]
    },
    {
      "cell_type": "code",
      "metadata": {
        "id": "GBBiy-xuENJU"
      },
      "source": [
        "numlist.append(1)"
      ],
      "execution_count": null,
      "outputs": []
    },
    {
      "cell_type": "code",
      "metadata": {
        "colab": {
          "base_uri": "https://localhost:8080/"
        },
        "id": "fcPYpU_yENNi",
        "outputId": "fb803ed4-831e-4cb5-9ec3-b51c08a9916c"
      },
      "source": [
        "print(numlist)"
      ],
      "execution_count": null,
      "outputs": [
        {
          "output_type": "stream",
          "text": [
            "[1, 2, 3, 10, 11, 22, 111, 1000, 1, 1]\n"
          ],
          "name": "stdout"
        }
      ]
    },
    {
      "cell_type": "code",
      "metadata": {
        "colab": {
          "base_uri": "https://localhost:8080/"
        },
        "id": "1_pHnjbFENQZ",
        "outputId": "12320c4d-87a3-443f-dbe7-0e367e41cc12"
      },
      "source": [
        "del numlist[1]\n",
        "print(numlist)"
      ],
      "execution_count": null,
      "outputs": [
        {
          "output_type": "stream",
          "text": [
            "[1, 3, 10, 11, 22, 111, 1000, 1]\n"
          ],
          "name": "stdout"
        }
      ]
    },
    {
      "cell_type": "code",
      "metadata": {
        "colab": {
          "base_uri": "https://localhost:8080/"
        },
        "id": "xDPD88D7ENUS",
        "outputId": "cc759d8c-52ea-4aa9-9d74-93df1946d679"
      },
      "source": [
        "numlist.pop(1)\n",
        "print(numlist)"
      ],
      "execution_count": null,
      "outputs": [
        {
          "output_type": "stream",
          "text": [
            "[1, 10, 11, 22, 111, 1000, 1]\n"
          ],
          "name": "stdout"
        }
      ]
    },
    {
      "cell_type": "code",
      "metadata": {
        "colab": {
          "base_uri": "https://localhost:8080/"
        },
        "id": "LJjbEIIGENXF",
        "outputId": "46054dcc-69c1-443c-df00-03159f2dc700"
      },
      "source": [
        "for i in range(5):\n",
        "  print(i)"
      ],
      "execution_count": null,
      "outputs": [
        {
          "output_type": "stream",
          "text": [
            "0\n",
            "1\n",
            "2\n",
            "3\n",
            "4\n"
          ],
          "name": "stdout"
        }
      ]
    },
    {
      "cell_type": "code",
      "metadata": {
        "colab": {
          "base_uri": "https://localhost:8080/"
        },
        "id": "HDoTqGX7ENaR",
        "outputId": "f39da6d8-71c1-46db-ee90-2ebdfbd4ec64"
      },
      "source": [
        "for i in numlist:\n",
        "  print(i)"
      ],
      "execution_count": null,
      "outputs": [
        {
          "output_type": "stream",
          "text": [
            "1\n",
            "10\n",
            "11\n",
            "22\n",
            "111\n",
            "1000\n",
            "1\n"
          ],
          "name": "stdout"
        }
      ]
    },
    {
      "cell_type": "code",
      "metadata": {
        "colab": {
          "base_uri": "https://localhost:8080/"
        },
        "id": "uo1RSslcENdG",
        "outputId": "d675e386-72d5-4d24-f466-1de1134b9b96"
      },
      "source": [
        "# all 1 removed \n",
        "numlist2 = []\n",
        "for i in numlist:\n",
        "  if(i != 1):\n",
        "    numlist2.append(i)\n",
        "  # if(numlist[i] == 1):\n",
        "  #   numlist.pop(numlist[i]\n",
        "\n",
        "print(numlist2)"
      ],
      "execution_count": null,
      "outputs": [
        {
          "output_type": "stream",
          "text": [
            "[10, 11, 22, 111, 1000]\n"
          ],
          "name": "stdout"
        }
      ]
    },
    {
      "cell_type": "code",
      "metadata": {
        "colab": {
          "base_uri": "https://localhost:8080/"
        },
        "id": "tmT8IuzhENf9",
        "outputId": "2dee2a77-5351-49a0-d6e0-38085168426e"
      },
      "source": [
        "# tuple \n",
        "tuple1=(1,3,6)\n",
        "print(tuple1)"
      ],
      "execution_count": null,
      "outputs": [
        {
          "output_type": "stream",
          "text": [
            "(1, 3, 6)\n"
          ],
          "name": "stdout"
        }
      ]
    },
    {
      "cell_type": "code",
      "metadata": {
        "colab": {
          "base_uri": "https://localhost:8080/",
          "height": 164
        },
        "id": "CMGDblrGHxDY",
        "outputId": "e28e0899-5411-4933-ba7f-75ef0ad6acc2"
      },
      "source": [
        "tuple1[0]= 88"
      ],
      "execution_count": null,
      "outputs": [
        {
          "output_type": "error",
          "ename": "TypeError",
          "evalue": "ignored",
          "traceback": [
            "\u001b[0;31m---------------------------------------------------------------------------\u001b[0m",
            "\u001b[0;31mTypeError\u001b[0m                                 Traceback (most recent call last)",
            "\u001b[0;32m<ipython-input-32-d7317ec74ed3>\u001b[0m in \u001b[0;36m<module>\u001b[0;34m()\u001b[0m\n\u001b[0;32m----> 1\u001b[0;31m \u001b[0mtuple1\u001b[0m\u001b[0;34m[\u001b[0m\u001b[0;36m0\u001b[0m\u001b[0;34m]\u001b[0m\u001b[0;34m=\u001b[0m \u001b[0;36m88\u001b[0m\u001b[0;34m\u001b[0m\u001b[0;34m\u001b[0m\u001b[0m\n\u001b[0m",
            "\u001b[0;31mTypeError\u001b[0m: 'tuple' object does not support item assignment"
          ]
        }
      ]
    },
    {
      "cell_type": "code",
      "metadata": {
        "colab": {
          "base_uri": "https://localhost:8080/"
        },
        "id": "CITFyRuLIEo9",
        "outputId": "c9d49763-67dc-46bb-f4e2-3aaf0c1fb195"
      },
      "source": [
        "list1 = list(tuple1)\n",
        "print(list1)\n",
        "list1.append(5)\n",
        "print(list1)\n",
        "tuple1 = tuple(list1)\n",
        "print(tuple1)"
      ],
      "execution_count": null,
      "outputs": [
        {
          "output_type": "stream",
          "text": [
            "[1, 3, 6, 5]\n",
            "[1, 3, 6, 5, 5]\n",
            "(1, 3, 6, 5, 5)\n"
          ],
          "name": "stdout"
        }
      ]
    },
    {
      "cell_type": "code",
      "metadata": {
        "colab": {
          "base_uri": "https://localhost:8080/"
        },
        "id": "mwUMcf7AI_W_",
        "outputId": "071280d8-3bc7-4689-bbfd-26246763633b"
      },
      "source": [
        "# dictionaries : \n",
        "capitals = {\n",
        "    'India' : 'New Delhi',\n",
        "    'USA' : 'Washington DC',\n",
        "    'Nepal' : 'Kathmandu'\n",
        "}\n",
        "\n",
        "print(capitals)\n",
        "\n",
        "\n"
      ],
      "execution_count": null,
      "outputs": [
        {
          "output_type": "stream",
          "text": [
            "{'India': 'New Delhi', 'USA': 'Washington DC', 'Nepal': 'Kathmandu'}\n"
          ],
          "name": "stdout"
        }
      ]
    },
    {
      "cell_type": "code",
      "metadata": {
        "colab": {
          "base_uri": "https://localhost:8080/"
        },
        "id": "CtxF90eLI_c7",
        "outputId": "378dd19d-770e-40e6-94a7-941f8daf0a03"
      },
      "source": [
        "print(capitals['Nepal']) # print the value of the key Nepal \n",
        "capitals['Canada'] = 'Ottawa'\n",
        "print(capitals)\n"
      ],
      "execution_count": null,
      "outputs": [
        {
          "output_type": "stream",
          "text": [
            "Kathmandu\n",
            "{'India': 'New Delhi', 'USA': 'Washington DC', 'Nepal': 'Kathmandu', 'Canada': 'Ottawa'}\n"
          ],
          "name": "stdout"
        }
      ]
    },
    {
      "cell_type": "code",
      "metadata": {
        "colab": {
          "base_uri": "https://localhost:8080/"
        },
        "id": "CNq90ZFPI_gr",
        "outputId": "bc31c60a-99c8-4dbb-ae2e-2e4223d98b8a"
      },
      "source": [
        "len(capitals)"
      ],
      "execution_count": null,
      "outputs": [
        {
          "output_type": "execute_result",
          "data": {
            "text/plain": [
              "4"
            ]
          },
          "metadata": {
            "tags": []
          },
          "execution_count": 45
        }
      ]
    },
    {
      "cell_type": "code",
      "metadata": {
        "colab": {
          "base_uri": "https://localhost:8080/"
        },
        "id": "UrHiNziaKlnD",
        "outputId": "98982fb6-4aa8-4fcb-d5a5-8b5d88f43c5d"
      },
      "source": [
        "capitals.popitem()\n",
        "print(capitals)\n"
      ],
      "execution_count": null,
      "outputs": [
        {
          "output_type": "stream",
          "text": [
            "{'India': 'New Delhi', 'USA': 'Washington DC', 'Nepal': 'Kathmandu'}\n"
          ],
          "name": "stdout"
        }
      ]
    },
    {
      "cell_type": "code",
      "metadata": {
        "colab": {
          "base_uri": "https://localhost:8080/"
        },
        "id": "1gt2NUaQKlqb",
        "outputId": "a32d2e4f-66a6-4981-cd5e-98f098216915"
      },
      "source": [
        "del capitals['USA']\n",
        "print(capitals)\n"
      ],
      "execution_count": null,
      "outputs": [
        {
          "output_type": "stream",
          "text": [
            "{'India': 'New Delhi', 'Nepal': 'Kathmandu'}\n"
          ],
          "name": "stdout"
        }
      ]
    },
    {
      "cell_type": "code",
      "metadata": {
        "colab": {
          "base_uri": "https://localhost:8080/"
        },
        "id": "2l448r0eKlt-",
        "outputId": "e72714a1-1e74-485d-cf35-027551c108c3"
      },
      "source": [
        "userInformation = {\n",
        "    'full name' : \"Shivay Lamba\",\n",
        "    'age' : 23,\n",
        "    'gender' : \"Male\",\n",
        "    'hobbies' : ['cricket', 'AI']\n",
        "}\n",
        "print(userInformation)"
      ],
      "execution_count": null,
      "outputs": [
        {
          "output_type": "stream",
          "text": [
            "{'full name': 'Shivay Lamba', 'age': 23, 'gender': 'Male', 'hobbies': ['cricket', 'AI']}\n"
          ],
          "name": "stdout"
        }
      ]
    },
    {
      "cell_type": "code",
      "metadata": {
        "colab": {
          "base_uri": "https://localhost:8080/"
        },
        "id": "p6NYU5orKlw1",
        "outputId": "5ca988e7-7912-412b-eb42-bd36fa5c9663"
      },
      "source": [
        "# # 1, 10 \n",
        "# num1 = int(input(\"enter first number\"))\n",
        "# num2 = int(input(\"enter second number\"))\n",
        "var = []\n",
        "for i in range(3):\n",
        "  num = int(input(\"enter numnber\"))\n",
        "  var.append(num)\n",
        "\n",
        "\n",
        "\n",
        "# for i in range(num1, num2): 11 to 13 \n",
        "#   if(i%2 == 0 ):\n",
        "#     print(\"even number\")\n",
        "#   else:\n",
        "#     print(\"odd number \")"
      ],
      "execution_count": null,
      "outputs": [
        {
          "output_type": "stream",
          "text": [
            "enter numnber10\n",
            "enter numnber11\n",
            "enter numnber12\n"
          ],
          "name": "stdout"
        }
      ]
    },
    {
      "cell_type": "code",
      "metadata": {
        "id": "l-Vo09eENn9s",
        "colab": {
          "base_uri": "https://localhost:8080/"
        },
        "outputId": "fa1d0d99-a266-4dd5-df6b-cde256d5e21f"
      },
      "source": [
        "print(var)"
      ],
      "execution_count": null,
      "outputs": [
        {
          "output_type": "stream",
          "text": [
            "[10, 11, 12]\n"
          ],
          "name": "stdout"
        }
      ]
    }
  ]
}